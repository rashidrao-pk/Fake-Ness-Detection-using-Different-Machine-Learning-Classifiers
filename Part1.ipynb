{
 "cells": [
  {
   "cell_type": "markdown",
   "id": "bc975a04",
   "metadata": {},
   "source": [
    "## Fake News Detection -  Part 1\n",
    "### Importing Libraries"
   ]
  },
  {
   "cell_type": "code",
   "execution_count": 1,
   "id": "0ceae338",
   "metadata": {},
   "outputs": [],
   "source": [
    "## Pandas Library is used to read data files  \n",
    "import pandas as pd\n",
    "## Numpy is library to create and handle arrays into machine\n",
    "import numpy as np\n",
    "# Matplotlib is used to create figures and plots \n",
    "import matplotlib.pyplot as plt\n",
    "# Sea born is used to get most frquent words\n",
    "import seaborn as sns \n",
    "# SKLearn library is used for all machine learning related tasks\n",
    "from sklearn.feature_extraction.text import CountVectorizer\n",
    "from sklearn.feature_extraction.text import TfidfTransformer\n",
    "from sklearn import feature_extraction, linear_model, model_selection, preprocessing\n",
    "from sklearn.metrics import accuracy_score\n",
    "from sklearn.model_selection import train_test_split\n",
    "from sklearn.pipeline import Pipeline\n",
    "# Time library is used to handle machine time\n",
    "import time"
   ]
  },
  {
   "cell_type": "markdown",
   "id": "1e8fefcb",
   "metadata": {},
   "source": [
    "# Read datasets"
   ]
  },
  {
   "cell_type": "code",
   "execution_count": 2,
   "id": "6c52b705",
   "metadata": {},
   "outputs": [],
   "source": [
    "# Reading both files seperately into two variables\n",
    "## To Avoid Error casused by large file\n",
    "fake = pd.read_csv(\"../dataset_new/Fake.csv\",low_memory=False)\n",
    "true = pd.read_csv(\"../dataset_new/True.csv\",low_memory=False)"
   ]
  },
  {
   "cell_type": "code",
   "execution_count": 3,
   "id": "cfe77465",
   "metadata": {},
   "outputs": [
    {
     "data": {
      "text/plain": [
       "(22827, 4)"
      ]
     },
     "execution_count": 3,
     "metadata": {},
     "output_type": "execute_result"
    }
   ],
   "source": [
    "## Gettign No of obsrevation into rows and No of Feature into columns for Fake Class\n",
    "fake.shape"
   ]
  },
  {
   "cell_type": "code",
   "execution_count": 4,
   "id": "aa7f7c07",
   "metadata": {},
   "outputs": [
    {
     "data": {
      "text/plain": [
       "(21416, 4)"
      ]
     },
     "execution_count": 4,
     "metadata": {},
     "output_type": "execute_result"
    }
   ],
   "source": [
    "## Getting No of obsrevation into rows and No of Feature into columns for True Class\n",
    "true.shape"
   ]
  },
  {
   "cell_type": "markdown",
   "id": "207486be",
   "metadata": {},
   "source": [
    "# Data cleaning and preparation"
   ]
  },
  {
   "cell_type": "code",
   "execution_count": 5,
   "id": "5479fe31",
   "metadata": {},
   "outputs": [],
   "source": [
    "# Add flag to track fake and real\n",
    "fake['target'] = 'fake'\n",
    "true['target'] = 'true'"
   ]
  },
  {
   "cell_type": "code",
   "execution_count": 6,
   "id": "95f367e9",
   "metadata": {},
   "outputs": [
    {
     "data": {
      "text/plain": [
       "(44243, 5)"
      ]
     },
     "execution_count": 6,
     "metadata": {},
     "output_type": "execute_result"
    }
   ],
   "source": [
    "#Concatenate dataframes into a single variables\n",
    "data = pd.concat([fake, true]).reset_index(drop = True)\n",
    "#Getting Matrix size for combined dataframe (Target/label is at last inedx, that's why it is converted from Mx4 to Mx5 now)\n",
    "data.shape"
   ]
  },
  {
   "cell_type": "code",
   "execution_count": 7,
   "id": "1af659dd",
   "metadata": {},
   "outputs": [],
   "source": [
    "# Shuffle the dataset to make it look real \n",
    "from sklearn.utils import shuffle\n",
    "data = shuffle(data)\n",
    "data = data.reset_index(drop=True)"
   ]
  },
  {
   "cell_type": "code",
   "execution_count": 8,
   "id": "c6e1e68e",
   "metadata": {},
   "outputs": [
    {
     "data": {
      "text/html": [
       "<div>\n",
       "<style scoped>\n",
       "    .dataframe tbody tr th:only-of-type {\n",
       "        vertical-align: middle;\n",
       "    }\n",
       "\n",
       "    .dataframe tbody tr th {\n",
       "        vertical-align: top;\n",
       "    }\n",
       "\n",
       "    .dataframe thead th {\n",
       "        text-align: right;\n",
       "    }\n",
       "</style>\n",
       "<table border=\"1\" class=\"dataframe\">\n",
       "  <thead>\n",
       "    <tr style=\"text-align: right;\">\n",
       "      <th></th>\n",
       "      <th>title</th>\n",
       "      <th>text</th>\n",
       "      <th>subject</th>\n",
       "      <th>date</th>\n",
       "      <th>target</th>\n",
       "    </tr>\n",
       "  </thead>\n",
       "  <tbody>\n",
       "    <tr>\n",
       "      <th>0</th>\n",
       "      <td>Factbox: Trump controversies: Michael Flynn, t...</td>\n",
       "      <td>(Reuters) - The continuing controversy over fo...</td>\n",
       "      <td>Politics</td>\n",
       "      <td>February 16, 2017</td>\n",
       "      <td>true</td>\n",
       "    </tr>\n",
       "    <tr>\n",
       "      <th>1</th>\n",
       "      <td>Jets strike U.S.-backed forces in eastern Syria</td>\n",
       "      <td>BEIRUT (Reuters) - U.S.-backed militias in Syr...</td>\n",
       "      <td>World News</td>\n",
       "      <td>September 16, 2017</td>\n",
       "      <td>true</td>\n",
       "    </tr>\n",
       "    <tr>\n",
       "      <th>2</th>\n",
       "      <td>UPDATE ON MONSTER MOM Who Kicked Little Boy Ou...</td>\n",
       "      <td>JUSTICE FOR CHILDREN WITHOUT VOICES: We have s...</td>\n",
       "      <td>Politics</td>\n",
       "      <td>Nov 11, 2016</td>\n",
       "      <td>fake</td>\n",
       "    </tr>\n",
       "    <tr>\n",
       "      <th>3</th>\n",
       "      <td>Clinton calls Trump's proposal to dismantle Do...</td>\n",
       "      <td>WASHINGTON (Reuters) - Democratic presidential...</td>\n",
       "      <td>Politics</td>\n",
       "      <td>May 17, 2016</td>\n",
       "      <td>true</td>\n",
       "    </tr>\n",
       "    <tr>\n",
       "      <th>4</th>\n",
       "      <td>U.S. official met Syrian security chief in Dam...</td>\n",
       "      <td>BEIRUT (Reuters) - A senior U.S. official met ...</td>\n",
       "      <td>World News</td>\n",
       "      <td>November 3, 2017</td>\n",
       "      <td>true</td>\n",
       "    </tr>\n",
       "  </tbody>\n",
       "</table>\n",
       "</div>"
      ],
      "text/plain": [
       "                                               title  \\\n",
       "0  Factbox: Trump controversies: Michael Flynn, t...   \n",
       "1    Jets strike U.S.-backed forces in eastern Syria   \n",
       "2  UPDATE ON MONSTER MOM Who Kicked Little Boy Ou...   \n",
       "3  Clinton calls Trump's proposal to dismantle Do...   \n",
       "4  U.S. official met Syrian security chief in Dam...   \n",
       "\n",
       "                                                text     subject  \\\n",
       "0  (Reuters) - The continuing controversy over fo...    Politics   \n",
       "1  BEIRUT (Reuters) - U.S.-backed militias in Syr...  World News   \n",
       "2  JUSTICE FOR CHILDREN WITHOUT VOICES: We have s...    Politics   \n",
       "3  WASHINGTON (Reuters) - Democratic presidential...    Politics   \n",
       "4  BEIRUT (Reuters) - A senior U.S. official met ...  World News   \n",
       "\n",
       "                  date target  \n",
       "0   February 16, 2017    true  \n",
       "1  September 16, 2017    true  \n",
       "2         Nov 11, 2016   fake  \n",
       "3        May 17, 2016    true  \n",
       "4    November 3, 2017    true  "
      ]
     },
     "execution_count": 8,
     "metadata": {},
     "output_type": "execute_result"
    }
   ],
   "source": [
    "# Displaying few of samples from the dataset\n",
    "data.head()"
   ]
  },
  {
   "cell_type": "code",
   "execution_count": 9,
   "id": "ac5e3df2",
   "metadata": {},
   "outputs": [
    {
     "data": {
      "text/html": [
       "<div>\n",
       "<style scoped>\n",
       "    .dataframe tbody tr th:only-of-type {\n",
       "        vertical-align: middle;\n",
       "    }\n",
       "\n",
       "    .dataframe tbody tr th {\n",
       "        vertical-align: top;\n",
       "    }\n",
       "\n",
       "    .dataframe thead th {\n",
       "        text-align: right;\n",
       "    }\n",
       "</style>\n",
       "<table border=\"1\" class=\"dataframe\">\n",
       "  <thead>\n",
       "    <tr style=\"text-align: right;\">\n",
       "      <th></th>\n",
       "      <th>title</th>\n",
       "      <th>text</th>\n",
       "      <th>subject</th>\n",
       "      <th>target</th>\n",
       "    </tr>\n",
       "  </thead>\n",
       "  <tbody>\n",
       "    <tr>\n",
       "      <th>0</th>\n",
       "      <td>Factbox: Trump controversies: Michael Flynn, t...</td>\n",
       "      <td>(Reuters) - The continuing controversy over fo...</td>\n",
       "      <td>Politics</td>\n",
       "      <td>true</td>\n",
       "    </tr>\n",
       "    <tr>\n",
       "      <th>1</th>\n",
       "      <td>Jets strike U.S.-backed forces in eastern Syria</td>\n",
       "      <td>BEIRUT (Reuters) - U.S.-backed militias in Syr...</td>\n",
       "      <td>World News</td>\n",
       "      <td>true</td>\n",
       "    </tr>\n",
       "    <tr>\n",
       "      <th>2</th>\n",
       "      <td>UPDATE ON MONSTER MOM Who Kicked Little Boy Ou...</td>\n",
       "      <td>JUSTICE FOR CHILDREN WITHOUT VOICES: We have s...</td>\n",
       "      <td>Politics</td>\n",
       "      <td>fake</td>\n",
       "    </tr>\n",
       "    <tr>\n",
       "      <th>3</th>\n",
       "      <td>Clinton calls Trump's proposal to dismantle Do...</td>\n",
       "      <td>WASHINGTON (Reuters) - Democratic presidential...</td>\n",
       "      <td>Politics</td>\n",
       "      <td>true</td>\n",
       "    </tr>\n",
       "    <tr>\n",
       "      <th>4</th>\n",
       "      <td>U.S. official met Syrian security chief in Dam...</td>\n",
       "      <td>BEIRUT (Reuters) - A senior U.S. official met ...</td>\n",
       "      <td>World News</td>\n",
       "      <td>true</td>\n",
       "    </tr>\n",
       "  </tbody>\n",
       "</table>\n",
       "</div>"
      ],
      "text/plain": [
       "                                               title  \\\n",
       "0  Factbox: Trump controversies: Michael Flynn, t...   \n",
       "1    Jets strike U.S.-backed forces in eastern Syria   \n",
       "2  UPDATE ON MONSTER MOM Who Kicked Little Boy Ou...   \n",
       "3  Clinton calls Trump's proposal to dismantle Do...   \n",
       "4  U.S. official met Syrian security chief in Dam...   \n",
       "\n",
       "                                                text     subject target  \n",
       "0  (Reuters) - The continuing controversy over fo...    Politics   true  \n",
       "1  BEIRUT (Reuters) - U.S.-backed militias in Syr...  World News   true  \n",
       "2  JUSTICE FOR CHILDREN WITHOUT VOICES: We have s...    Politics   fake  \n",
       "3  WASHINGTON (Reuters) - Democratic presidential...    Politics   true  \n",
       "4  BEIRUT (Reuters) - A senior U.S. official met ...  World News   true  "
      ]
     },
     "execution_count": 9,
     "metadata": {},
     "output_type": "execute_result"
    }
   ],
   "source": [
    "# Removing the date (we won't use it for the analysis)\n",
    "data.drop([\"date\"],axis=1,inplace=True)\n",
    "# Displaying few of samples from the dataset\n",
    "data.head()"
   ]
  },
  {
   "cell_type": "code",
   "execution_count": 10,
   "id": "0c2e38e0",
   "metadata": {},
   "outputs": [
    {
     "data": {
      "text/html": [
       "<div>\n",
       "<style scoped>\n",
       "    .dataframe tbody tr th:only-of-type {\n",
       "        vertical-align: middle;\n",
       "    }\n",
       "\n",
       "    .dataframe tbody tr th {\n",
       "        vertical-align: top;\n",
       "    }\n",
       "\n",
       "    .dataframe thead th {\n",
       "        text-align: right;\n",
       "    }\n",
       "</style>\n",
       "<table border=\"1\" class=\"dataframe\">\n",
       "  <thead>\n",
       "    <tr style=\"text-align: right;\">\n",
       "      <th></th>\n",
       "      <th>text</th>\n",
       "      <th>subject</th>\n",
       "      <th>target</th>\n",
       "    </tr>\n",
       "  </thead>\n",
       "  <tbody>\n",
       "    <tr>\n",
       "      <th>0</th>\n",
       "      <td>(Reuters) - The continuing controversy over fo...</td>\n",
       "      <td>Politics</td>\n",
       "      <td>true</td>\n",
       "    </tr>\n",
       "    <tr>\n",
       "      <th>1</th>\n",
       "      <td>BEIRUT (Reuters) - U.S.-backed militias in Syr...</td>\n",
       "      <td>World News</td>\n",
       "      <td>true</td>\n",
       "    </tr>\n",
       "    <tr>\n",
       "      <th>2</th>\n",
       "      <td>JUSTICE FOR CHILDREN WITHOUT VOICES: We have s...</td>\n",
       "      <td>Politics</td>\n",
       "      <td>fake</td>\n",
       "    </tr>\n",
       "    <tr>\n",
       "      <th>3</th>\n",
       "      <td>WASHINGTON (Reuters) - Democratic presidential...</td>\n",
       "      <td>Politics</td>\n",
       "      <td>true</td>\n",
       "    </tr>\n",
       "    <tr>\n",
       "      <th>4</th>\n",
       "      <td>BEIRUT (Reuters) - A senior U.S. official met ...</td>\n",
       "      <td>World News</td>\n",
       "      <td>true</td>\n",
       "    </tr>\n",
       "  </tbody>\n",
       "</table>\n",
       "</div>"
      ],
      "text/plain": [
       "                                                text     subject target\n",
       "0  (Reuters) - The continuing controversy over fo...    Politics   true\n",
       "1  BEIRUT (Reuters) - U.S.-backed militias in Syr...  World News   true\n",
       "2  JUSTICE FOR CHILDREN WITHOUT VOICES: We have s...    Politics   fake\n",
       "3  WASHINGTON (Reuters) - Democratic presidential...    Politics   true\n",
       "4  BEIRUT (Reuters) - A senior U.S. official met ...  World News   true"
      ]
     },
     "execution_count": 10,
     "metadata": {},
     "output_type": "execute_result"
    }
   ],
   "source": [
    "# Removing the title (we will only use the text)\n",
    "data.drop([\"title\"],axis=1,inplace=True)\n",
    "# Displaying few of samples from the dataset\n",
    "data.head()"
   ]
  },
  {
   "cell_type": "code",
   "execution_count": 11,
   "id": "25f19af0",
   "metadata": {},
   "outputs": [
    {
     "data": {
      "text/html": [
       "<div>\n",
       "<style scoped>\n",
       "    .dataframe tbody tr th:only-of-type {\n",
       "        vertical-align: middle;\n",
       "    }\n",
       "\n",
       "    .dataframe tbody tr th {\n",
       "        vertical-align: top;\n",
       "    }\n",
       "\n",
       "    .dataframe thead th {\n",
       "        text-align: right;\n",
       "    }\n",
       "</style>\n",
       "<table border=\"1\" class=\"dataframe\">\n",
       "  <thead>\n",
       "    <tr style=\"text-align: right;\">\n",
       "      <th></th>\n",
       "      <th>text</th>\n",
       "      <th>subject</th>\n",
       "      <th>target</th>\n",
       "    </tr>\n",
       "  </thead>\n",
       "  <tbody>\n",
       "    <tr>\n",
       "      <th>0</th>\n",
       "      <td>(reuters) - the continuing controversy over fo...</td>\n",
       "      <td>Politics</td>\n",
       "      <td>true</td>\n",
       "    </tr>\n",
       "    <tr>\n",
       "      <th>1</th>\n",
       "      <td>beirut (reuters) - u.s.-backed militias in syr...</td>\n",
       "      <td>World News</td>\n",
       "      <td>true</td>\n",
       "    </tr>\n",
       "    <tr>\n",
       "      <th>2</th>\n",
       "      <td>justice for children without voices: we have s...</td>\n",
       "      <td>Politics</td>\n",
       "      <td>fake</td>\n",
       "    </tr>\n",
       "    <tr>\n",
       "      <th>3</th>\n",
       "      <td>washington (reuters) - democratic presidential...</td>\n",
       "      <td>Politics</td>\n",
       "      <td>true</td>\n",
       "    </tr>\n",
       "    <tr>\n",
       "      <th>4</th>\n",
       "      <td>beirut (reuters) - a senior u.s. official met ...</td>\n",
       "      <td>World News</td>\n",
       "      <td>true</td>\n",
       "    </tr>\n",
       "  </tbody>\n",
       "</table>\n",
       "</div>"
      ],
      "text/plain": [
       "                                                text     subject target\n",
       "0  (reuters) - the continuing controversy over fo...    Politics   true\n",
       "1  beirut (reuters) - u.s.-backed militias in syr...  World News   true\n",
       "2  justice for children without voices: we have s...    Politics   fake\n",
       "3  washington (reuters) - democratic presidential...    Politics   true\n",
       "4  beirut (reuters) - a senior u.s. official met ...  World News   true"
      ]
     },
     "execution_count": 11,
     "metadata": {},
     "output_type": "execute_result"
    }
   ],
   "source": [
    "# Convert all the values from text column to lowercase\n",
    "\n",
    "data['text'] = data['text'].apply(lambda x: x.lower())\n",
    "# Displaying few of samples from the dataset\n",
    "data.head()"
   ]
  },
  {
   "cell_type": "code",
   "execution_count": 12,
   "id": "d2b03b9e",
   "metadata": {},
   "outputs": [],
   "source": [
    "# Remove punctuations in text column if any \n",
    "\n",
    "import string\n",
    "\n",
    "def punctuation_removal(text):\n",
    "    all_list = [char for char in text if char not in string.punctuation]\n",
    "    clean_str = ''.join(all_list)\n",
    "    return clean_str\n",
    "\n",
    "data['text'] = data['text'].apply(punctuation_removal)"
   ]
  },
  {
   "cell_type": "code",
   "execution_count": 13,
   "id": "16c4c4db",
   "metadata": {},
   "outputs": [
    {
     "data": {
      "text/html": [
       "<div>\n",
       "<style scoped>\n",
       "    .dataframe tbody tr th:only-of-type {\n",
       "        vertical-align: middle;\n",
       "    }\n",
       "\n",
       "    .dataframe tbody tr th {\n",
       "        vertical-align: top;\n",
       "    }\n",
       "\n",
       "    .dataframe thead th {\n",
       "        text-align: right;\n",
       "    }\n",
       "</style>\n",
       "<table border=\"1\" class=\"dataframe\">\n",
       "  <thead>\n",
       "    <tr style=\"text-align: right;\">\n",
       "      <th></th>\n",
       "      <th>text</th>\n",
       "      <th>subject</th>\n",
       "      <th>target</th>\n",
       "    </tr>\n",
       "  </thead>\n",
       "  <tbody>\n",
       "    <tr>\n",
       "      <th>0</th>\n",
       "      <td>reuters  the continuing controversy over forme...</td>\n",
       "      <td>Politics</td>\n",
       "      <td>true</td>\n",
       "    </tr>\n",
       "    <tr>\n",
       "      <th>1</th>\n",
       "      <td>beirut reuters  usbacked militias in syria sai...</td>\n",
       "      <td>World News</td>\n",
       "      <td>true</td>\n",
       "    </tr>\n",
       "    <tr>\n",
       "      <th>2</th>\n",
       "      <td>justice for children without voices we have sp...</td>\n",
       "      <td>Politics</td>\n",
       "      <td>fake</td>\n",
       "    </tr>\n",
       "    <tr>\n",
       "      <th>3</th>\n",
       "      <td>washington reuters  democratic presidential ca...</td>\n",
       "      <td>Politics</td>\n",
       "      <td>true</td>\n",
       "    </tr>\n",
       "    <tr>\n",
       "      <th>4</th>\n",
       "      <td>beirut reuters  a senior us official met syria...</td>\n",
       "      <td>World News</td>\n",
       "      <td>true</td>\n",
       "    </tr>\n",
       "  </tbody>\n",
       "</table>\n",
       "</div>"
      ],
      "text/plain": [
       "                                                text     subject target\n",
       "0  reuters  the continuing controversy over forme...    Politics   true\n",
       "1  beirut reuters  usbacked militias in syria sai...  World News   true\n",
       "2  justice for children without voices we have sp...    Politics   fake\n",
       "3  washington reuters  democratic presidential ca...    Politics   true\n",
       "4  beirut reuters  a senior us official met syria...  World News   true"
      ]
     },
     "execution_count": 13,
     "metadata": {},
     "output_type": "execute_result"
    }
   ],
   "source": [
    "# # Displaying few of samples from the dataset\n",
    "data.head()"
   ]
  },
  {
   "cell_type": "code",
   "execution_count": 14,
   "id": "bd7d4c45",
   "metadata": {},
   "outputs": [
    {
     "name": "stdout",
     "output_type": "stream",
     "text": [
      "File Already Exist :  C:\\Users\\\\Rashid Rao\\AppData\\Roaming\\nltk_data\\corpora\\stopwords.zip\n"
     ]
    }
   ],
   "source": [
    "# Removing stopwords\n",
    "# Mightbe it gives error in mac, if it gives error in mac, you can remove from line 3 to line 12 (else word) and keep only\n",
    "# keep this only ->  nltk.download('stopwords')\n",
    "# From line 3 to line 12, it is just checking whether the stopwords file is already downloaded or not\n",
    "import os\n",
    "base_dir = (r\"C:\\Users\\\\\")\n",
    "user = os.getlogin()\n",
    "filename =(r\"\\AppData\\Roaming\\nltk_data\\corpora\\stopwords.zip\")\n",
    "fullpath = (base_dir + user + filename)\n",
    "\n",
    "import nltk\n",
    "if fullpath:\n",
    "    print('File Already Exist : ',fullpath)\n",
    "else:\n",
    "    nltk.download('stopwords')\n",
    "\n",
    "from nltk.corpus import stopwords\n",
    "stop = stopwords.words('english')\n",
    "# Removing stop word in Text column\n",
    "data['text'] = data['text'].apply(lambda x: ' '.join([word for word in x.split() if word not in (stop)]))"
   ]
  },
  {
   "cell_type": "code",
   "execution_count": 15,
   "id": "6225515d",
   "metadata": {},
   "outputs": [
    {
     "data": {
      "text/html": [
       "<div>\n",
       "<style scoped>\n",
       "    .dataframe tbody tr th:only-of-type {\n",
       "        vertical-align: middle;\n",
       "    }\n",
       "\n",
       "    .dataframe tbody tr th {\n",
       "        vertical-align: top;\n",
       "    }\n",
       "\n",
       "    .dataframe thead th {\n",
       "        text-align: right;\n",
       "    }\n",
       "</style>\n",
       "<table border=\"1\" class=\"dataframe\">\n",
       "  <thead>\n",
       "    <tr style=\"text-align: right;\">\n",
       "      <th></th>\n",
       "      <th>text</th>\n",
       "      <th>subject</th>\n",
       "      <th>target</th>\n",
       "    </tr>\n",
       "  </thead>\n",
       "  <tbody>\n",
       "    <tr>\n",
       "      <th>0</th>\n",
       "      <td>reuters continuing controversy former national...</td>\n",
       "      <td>Politics</td>\n",
       "      <td>true</td>\n",
       "    </tr>\n",
       "    <tr>\n",
       "      <th>1</th>\n",
       "      <td>beirut reuters usbacked militias syria said ca...</td>\n",
       "      <td>World News</td>\n",
       "      <td>true</td>\n",
       "    </tr>\n",
       "    <tr>\n",
       "      <th>2</th>\n",
       "      <td>justice children without voices spoken detecti...</td>\n",
       "      <td>Politics</td>\n",
       "      <td>fake</td>\n",
       "    </tr>\n",
       "    <tr>\n",
       "      <th>3</th>\n",
       "      <td>washington reuters democratic presidential can...</td>\n",
       "      <td>Politics</td>\n",
       "      <td>true</td>\n",
       "    </tr>\n",
       "    <tr>\n",
       "      <th>4</th>\n",
       "      <td>beirut reuters senior us official met syria na...</td>\n",
       "      <td>World News</td>\n",
       "      <td>true</td>\n",
       "    </tr>\n",
       "  </tbody>\n",
       "</table>\n",
       "</div>"
      ],
      "text/plain": [
       "                                                text     subject target\n",
       "0  reuters continuing controversy former national...    Politics   true\n",
       "1  beirut reuters usbacked militias syria said ca...  World News   true\n",
       "2  justice children without voices spoken detecti...    Politics   fake\n",
       "3  washington reuters democratic presidential can...    Politics   true\n",
       "4  beirut reuters senior us official met syria na...  World News   true"
      ]
     },
     "execution_count": 15,
     "metadata": {},
     "output_type": "execute_result"
    }
   ],
   "source": [
    "# Displaying few of samples from the dataset\n",
    "data.head()"
   ]
  },
  {
   "cell_type": "markdown",
   "id": "9df44b1b",
   "metadata": {},
   "source": [
    "# Basic data exploration"
   ]
  },
  {
   "cell_type": "code",
   "execution_count": 16,
   "id": "fa5251df",
   "metadata": {},
   "outputs": [
    {
     "name": "stdout",
     "output_type": "stream",
     "text": [
      "subject\n",
      "Politics      17694\n",
      "World News    26545\n",
      "Name: text, dtype: int64\n"
     ]
    },
    {
     "data": {
      "image/png": "[encoded data removed]",
      "text/plain": [
       "<Figure size 432x288 with 1 Axes>"
      ]
     },
     "metadata": {
      "needs_background": "light"
     },
     "output_type": "display_data"
    }
   ],
   "source": [
    "# How many articles per subject?\n",
    "print(data.groupby(['subject'])['text'].count())\n",
    "data.groupby(['subject'])['text'].count().plot(kind=\"bar\")\n",
    "plt.show()"
   ]
  },
  {
   "cell_type": "code",
   "execution_count": 17,
   "id": "c65082c5",
   "metadata": {},
   "outputs": [
    {
     "name": "stdout",
     "output_type": "stream",
     "text": [
      "target\n",
      "fake    22827\n",
      "true    21416\n",
      "Name: text, dtype: int64\n"
     ]
    },
    {
     "data": {
      "image/png": "[encoded data removed]",
      "text/plain": [
       "<Figure size 432x288 with 1 Axes>"
      ]
     },
     "metadata": {
      "needs_background": "light"
     },
     "output_type": "display_data"
    }
   ],
   "source": [
    "# How many fake and real articles?\n",
    "print(data.groupby(['target'])['text'].count())\n",
    "data.groupby(['target'])['text'].count().plot(kind=\"bar\")\n",
    "plt.show()"
   ]
  },
  {
   "cell_type": "code",
   "execution_count": 18,
   "id": "d5dd98c7",
   "metadata": {},
   "outputs": [],
   "source": [
    "# Most frequent words counter (Code adapted from https://www.kaggle.com/rodolfoluna/fake-news-detector)   \n",
    "from nltk import tokenize\n",
    "\n",
    "token_space = tokenize.WhitespaceTokenizer()\n",
    "\n",
    "def counter(text, column_text, quantity):\n",
    "    all_words = ' '.join([text for text in text[column_text]])\n",
    "    token_phrase = token_space.tokenize(all_words)\n",
    "    frequency = nltk.FreqDist(token_phrase)\n",
    "    df_frequency = pd.DataFrame({\"Word\": list(frequency.keys()),\n",
    "                                   \"Frequency\": list(frequency.values())})\n",
    "    df_frequency = df_frequency.nlargest(columns = \"Frequency\", n = quantity)\n",
    "    plt.figure(figsize=(12,8))\n",
    "    ax = sns.barplot(data = df_frequency, x = \"Word\", y = \"Frequency\", color = 'blue')\n",
    "    ax.set(ylabel = \"Count\")\n",
    "    plt.xticks(rotation='vertical')\n",
    "    plt.show()"
   ]
  },
  {
   "cell_type": "code",
   "execution_count": 19,
   "id": "e376bc27",
   "metadata": {},
   "outputs": [
    {
     "data": {
      "image/png": "[encoded data removed]",
      "text/plain": [
       "<Figure size 864x576 with 1 Axes>"
      ]
     },
     "metadata": {
      "needs_background": "light"
     },
     "output_type": "display_data"
    }
   ],
   "source": [
    "# Most frequent words in fake news\n",
    "counter(data[data[\"target\"] == \"fake\"], \"text\", 20)"
   ]
  },
  {
   "cell_type": "code",
   "execution_count": 20,
   "id": "3a3fe20c",
   "metadata": {},
   "outputs": [
    {
     "data": {
      "image/png": "[encoded data removed]",
      "text/plain": [
       "<Figure size 864x576 with 1 Axes>"
      ]
     },
     "metadata": {
      "needs_background": "light"
     },
     "output_type": "display_data"
    }
   ],
   "source": [
    "# Most frequent words in real news\n",
    "counter(data[data[\"target\"] == \"true\"], \"text\", 20)"
   ]
  },
  {
   "cell_type": "markdown",
   "id": "029f22d2",
   "metadata": {},
   "source": [
    "# Modeling"
   ]
  },
  {
   "cell_type": "code",
   "execution_count": 21,
   "id": "f1e5a5d1",
   "metadata": {},
   "outputs": [],
   "source": [
    "# Function to plot the confusion matrix (code from https://scikit-learn.org/stable/auto_examples/model_selection/plot_confusion_matrix.html)\n",
    "from sklearn import metrics\n",
    "import itertools\n",
    "\n",
    "## User defined function to create Confusion Matrix\n",
    "def plot_confusion_matrix(cm, classes,\n",
    "                          normalize=False,\n",
    "                          title='Confusion matrix',\n",
    "                          cmap=plt.cm.Blues):\n",
    "    \n",
    "    plt.imshow(cm, interpolation='nearest', cmap=cmap)\n",
    "    plt.title(title)\n",
    "    plt.colorbar()\n",
    "    tick_marks = np.arange(len(classes))\n",
    "    plt.xticks(tick_marks, classes, rotation=45)\n",
    "    plt.yticks(tick_marks, classes)\n",
    "\n",
    "    if normalize:\n",
    "        cm = cm.astype('float') / cm.sum(axis=1)[:, np.newaxis]\n",
    "        print(\"Normalized confusion matrix\")\n",
    "    else:\n",
    "        print('Confusion matrix, without normalization')\n",
    "\n",
    "    thresh = cm.max() / 2.\n",
    "    for i, j in itertools.product(range(cm.shape[0]), range(cm.shape[1])):\n",
    "        plt.text(j, i, cm[i, j],\n",
    "                 horizontalalignment=\"center\",\n",
    "                 color=\"white\" if cm[i, j] > thresh else \"black\")\n",
    "\n",
    "    plt.tight_layout()\n",
    "    plt.ylabel('True label')\n",
    "    plt.xlabel('Predicted label')"
   ]
  },
  {
   "cell_type": "markdown",
   "id": "2bf571d4",
   "metadata": {},
   "source": [
    "# Peparing the data"
   ]
  },
  {
   "cell_type": "code",
   "execution_count": 22,
   "id": "fe20354c",
   "metadata": {},
   "outputs": [],
   "source": [
    "# Split the data\n",
    "# test size = 0.2 means it will split 80% data for training and rest 20% for the testing\n",
    "X_train,X_test,y_train,y_test = train_test_split(data['text'], data.target, test_size=0.2, random_state=42)"
   ]
  },
  {
   "cell_type": "code",
   "execution_count": 23,
   "id": "3a72c6fa",
   "metadata": {},
   "outputs": [],
   "source": [
    "## Creating Dictionaries to Store Results\n",
    "\n",
    "dct = dict()\n",
    "dct_time = dict()"
   ]
  },
  {
   "cell_type": "markdown",
   "id": "e9d2731d",
   "metadata": {},
   "source": [
    "# Naive Bayes"
   ]
  },
  {
   "cell_type": "code",
   "execution_count": 24,
   "id": "18fe41c6",
   "metadata": {},
   "outputs": [
    {
     "name": "stdout",
     "output_type": "stream",
     "text": [
      "Training time for Naive Bayes: 7.03s\n",
      "accuracy: 94.81%\n"
     ]
    }
   ],
   "source": [
    "# Importing functions from SKLearn Library\n",
    "from sklearn.naive_bayes import MultinomialNB\n",
    "\n",
    "NB_classifier = MultinomialNB()\n",
    "pipe = Pipeline([('vect', CountVectorizer()),\n",
    "                 ('tfidf', TfidfTransformer()),\n",
    "                 ('model', NB_classifier)])\n",
    "## Getting machine time to evaluate how much time will algorithm take to train \n",
    "start = time.time()\n",
    "model = pipe.fit(X_train, y_train)\n",
    "## Getting machine time to evaluate how much time will algorithm take to train \n",
    "stop = time.time()\n",
    "# Showing Training Time taken\n",
    "print(f\"Training time for Naive Bayes: {round((stop - start),2)}s\")\n",
    "# Predicting Labels from Test Set by Trained Model\n",
    "prediction = model.predict(X_test)\n",
    "# Showing Test Accuracy by Trained Classifier\n",
    "print(\"accuracy: {}%\".format(round(accuracy_score(y_test, prediction)*100,2)))\n",
    "\n",
    "dct['Naive Bayes'] = round(accuracy_score(y_test, prediction)*100,2)\n",
    "dct_time['Naive Bayes'] = round((stop - start),2)"
   ]
  },
  {
   "cell_type": "code",
   "execution_count": 25,
   "id": "6a559deb",
   "metadata": {},
   "outputs": [
    {
     "name": "stdout",
     "output_type": "stream",
     "text": [
      "Confusion matrix, without normalization\n"
     ]
    },
    {
     "data": {
      "image/png": "[encoded data removed]",
      "text/plain": [
       "<Figure size 432x288 with 2 Axes>"
      ]
     },
     "metadata": {
      "needs_background": "light"
     },
     "output_type": "display_data"
    }
   ],
   "source": [
    "cm = metrics.confusion_matrix(y_test, prediction)\n",
    "plot_confusion_matrix(cm, classes=['Fake', 'Real'])"
   ]
  },
  {
   "cell_type": "markdown",
   "id": "7f1b1021",
   "metadata": {},
   "source": [
    "# Logistic regression"
   ]
  },
  {
   "cell_type": "code",
   "execution_count": 26,
   "id": "61c1aec3",
   "metadata": {},
   "outputs": [
    {
     "name": "stdout",
     "output_type": "stream",
     "text": [
      "Training time for Logistic Regression: 9.48s\n",
      "accuracy: 98.8%\n"
     ]
    }
   ],
   "source": [
    "# Vectorizing and applying TF-IDF\n",
    "# Importing functions from SKLearn Library\n",
    "from sklearn.linear_model import LogisticRegression\n",
    "\n",
    "pipe = Pipeline([('vect', CountVectorizer()),\n",
    "                 ('tfidf', TfidfTransformer()),\n",
    "                 ('model', LogisticRegression())])\n",
    "## Getting machine time to evaluate how much time will algorithm take to train \n",
    "start = time.time()\n",
    "\n",
    "# Fitting the model\n",
    "model = pipe.fit(X_train, y_train)\n",
    "## Getting machine time to evaluate how much time will algorithm take to train \n",
    "stop = time.time()\n",
    "# Showing Training Time taken\n",
    "print(f\"Training time for Logistic Regression: {round((stop - start),2)}s\")\n",
    "# Predicting Labels from Test Set by Trained Model\n",
    "prediction = model.predict(X_test)\n",
    "# Showing Test Accuracy by Trained Classifier\n",
    "print(\"accuracy: {}%\".format(round(accuracy_score(y_test, prediction)*100,2)))\n",
    "\n",
    "## Storing Test Accuracy and Training Time in the data dictionaries for Plotting at the end\n",
    "dct['Logistic Regression'] = round(accuracy_score(y_test, prediction)*100,2)\n",
    "dct_time['Logistic Regression'] = round((stop - start),2)"
   ]
  },
  {
   "cell_type": "code",
   "execution_count": 27,
   "id": "644faef1",
   "metadata": {},
   "outputs": [
    {
     "name": "stdout",
     "output_type": "stream",
     "text": [
      "Confusion matrix, without normalization\n"
     ]
    },
    {
     "data": {
      "image/png": "[encoded data removed]",
      "text/plain": [
       "<Figure size 432x288 with 2 Axes>"
      ]
     },
     "metadata": {
      "needs_background": "light"
     },
     "output_type": "display_data"
    }
   ],
   "source": [
    "cm = metrics.confusion_matrix(y_test, prediction)\n",
    "plot_confusion_matrix(cm, classes=['Fake', 'Real'])"
   ]
  },
  {
   "cell_type": "markdown",
   "id": "71973619",
   "metadata": {},
   "source": [
    "# Decision Tree"
   ]
  },
  {
   "cell_type": "code",
   "execution_count": 28,
   "id": "7ffc0ebd",
   "metadata": {},
   "outputs": [
    {
     "name": "stdout",
     "output_type": "stream",
     "text": [
      "Training time for Decision Tree : 17.74s\n",
      "accuracy: 99.58%\n"
     ]
    }
   ],
   "source": [
    "# Importing functions from SKLearn Library\n",
    "from sklearn.tree import DecisionTreeClassifier\n",
    "\n",
    "# Vectorizing and applying TF-IDF\n",
    "pipe = Pipeline([('vect', CountVectorizer()),\n",
    "                 ('tfidf', TfidfTransformer()),\n",
    "                 ('model', DecisionTreeClassifier(criterion= 'entropy',\n",
    "                                           max_depth = 20, \n",
    "                                           splitter='best', \n",
    "                                           random_state=42))])\n",
    "## Getting machine time to evaluate how much time will algorithm take to train \n",
    "start = time.time()\n",
    "# Fitting the model\n",
    "model = pipe.fit(X_train, y_train)\n",
    "## Getting machine time to evaluate how much time will algorithm take to train \n",
    "stop = time.time()\n",
    "# Showing Training Time taken\n",
    "print(f\"Training time for Decision Tree : {round((stop - start),2)}s\")\n",
    "# Predicting Labels from Test Set by Trained Model\n",
    "prediction = model.predict(X_test)\n",
    "print(\"accuracy: {}%\".format(round(accuracy_score(y_test, prediction)*100,2)))\n",
    "\n",
    "## Storing Test Accuracy and Training Time in the data dictionaries for Plotting at the end\n",
    "dct['Decision Tree'] = round(accuracy_score(y_test, prediction)*100,2)\n",
    "dct_time['Decision Tree'] = round((stop - start),2)"
   ]
  },
  {
   "cell_type": "code",
   "execution_count": 29,
   "id": "6573abf2",
   "metadata": {},
   "outputs": [
    {
     "name": "stdout",
     "output_type": "stream",
     "text": [
      "Confusion matrix, without normalization\n"
     ]
    },
    {
     "data": {
      "image/png": "[encoded data removed]",
      "text/plain": [
       "<Figure size 432x288 with 2 Axes>"
      ]
     },
     "metadata": {
      "needs_background": "light"
     },
     "output_type": "display_data"
    }
   ],
   "source": [
    "cm = metrics.confusion_matrix(y_test, prediction)\n",
    "plot_confusion_matrix(cm, classes=['Fake', 'Real'])"
   ]
  },
  {
   "cell_type": "markdown",
   "id": "4386398c",
   "metadata": {},
   "source": [
    "# Random Forest"
   ]
  },
  {
   "cell_type": "code",
   "execution_count": 30,
   "id": "012f4e62",
   "metadata": {},
   "outputs": [
    {
     "name": "stdout",
     "output_type": "stream",
     "text": [
      "Training time for Random Forest : 42.14s\n",
      "accuracy: 99.01%\n"
     ]
    }
   ],
   "source": [
    "# Importing functions from SKLearn Library\n",
    "from sklearn.ensemble import RandomForestClassifier\n",
    "\n",
    "pipe = Pipeline([('vect', CountVectorizer()),\n",
    "                 ('tfidf', TfidfTransformer()),\n",
    "                 ('model', RandomForestClassifier(n_estimators=50, criterion=\"entropy\"))])\n",
    "## Getting machine time to evaluate how much time will algorithm take to train \n",
    "start = time.time()\n",
    "model = pipe.fit(X_train, y_train)\n",
    "## Getting machine time to evaluate how much time will algorithm take to train \n",
    "stop = time.time()\n",
    "# Showing Training Time taken\n",
    "print(f\"Training time for Random Forest : {round((stop - start),2)}s\")\n",
    "# Predicting Labels from Test Set by Trained Model\n",
    "prediction = model.predict(X_test)\n",
    "print(\"accuracy: {}%\".format(round(accuracy_score(y_test, prediction)*100,2)))\n",
    "\n",
    "## Storing Test Accuracy and Training Time in the data dictionaries for Plotting at the end\n",
    "dct['Random Forest'] = round(accuracy_score(y_test, prediction)*100,2)\n",
    "dct_time['Random Forest'] = round((stop - start),2)"
   ]
  },
  {
   "cell_type": "code",
   "execution_count": 31,
   "id": "167a8e8d",
   "metadata": {},
   "outputs": [
    {
     "name": "stdout",
     "output_type": "stream",
     "text": [
      "Confusion matrix, without normalization\n"
     ]
    },
    {
     "data": {
      "image/png": "[encoded data removed]",
      "text/plain": [
       "<Figure size 432x288 with 2 Axes>"
      ]
     },
     "metadata": {
      "needs_background": "light"
     },
     "output_type": "display_data"
    }
   ],
   "source": [
    "cm = metrics.confusion_matrix(y_test, prediction)\n",
    "plot_confusion_matrix(cm, classes=['Fake', 'Real'])"
   ]
  },
  {
   "cell_type": "markdown",
   "id": "22420785",
   "metadata": {},
   "source": [
    "# SVM"
   ]
  },
  {
   "cell_type": "code",
   "execution_count": 32,
   "id": "95859f59",
   "metadata": {},
   "outputs": [
    {
     "name": "stdout",
     "output_type": "stream",
     "text": [
      "Training time for SVM : 661.88s\n",
      "accuracy: 99.47%\n"
     ]
    }
   ],
   "source": [
    "# Importing functions from SKLearn Library\n",
    "from sklearn import svm\n",
    "\n",
    "#Create a svm Classifier\n",
    "clf = svm.SVC(kernel='linear') # Linear Kernel\n",
    "\n",
    "pipe = Pipeline([('vect', CountVectorizer()),\n",
    "                 ('tfidf', TfidfTransformer()),\n",
    "                 ('model', clf)])\n",
    "## Getting machine time to evaluate how much time will algorithm take to train \n",
    "start = time.time()\n",
    "model = pipe.fit(X_train, y_train)\n",
    "## Getting machine time to evaluate how much time will algorithm take to train \n",
    "stop = time.time()\n",
    "# Showing Training Time taken\n",
    "print(f\"Training time for SVM : {round((stop - start),2)}s\")\n",
    "# Predicting Labels from Test Set by Trained Model\n",
    "prediction = model.predict(X_test)\n",
    "print(\"accuracy: {}%\".format(round(accuracy_score(y_test, prediction)*100,2)))\n",
    "\n",
    "## Storing Test Accuracy and Training Time in the data dictionaries for Plotting at the end\n",
    "dct['SVM'] = round(accuracy_score(y_test, prediction)*100,2)\n",
    "dct_time['SVM'] = round((stop - start),2)"
   ]
  },
  {
   "cell_type": "code",
   "execution_count": 33,
   "id": "83565e61",
   "metadata": {},
   "outputs": [
    {
     "name": "stdout",
     "output_type": "stream",
     "text": [
      "Confusion matrix, without normalization\n"
     ]
    },
    {
     "data": {
      "image/png": "[encoded data removed]",
      "text/plain": [
       "<Figure size 432x288 with 2 Axes>"
      ]
     },
     "metadata": {
      "needs_background": "light"
     },
     "output_type": "display_data"
    }
   ],
   "source": [
    "cm = metrics.confusion_matrix(y_test, prediction)\n",
    "plot_confusion_matrix(cm, classes=['Fake', 'Real'])"
   ]
  },
  {
   "cell_type": "markdown",
   "id": "899e6010",
   "metadata": {},
   "source": [
    "# KNN"
   ]
  },
  {
   "cell_type": "code",
   "execution_count": 34,
   "id": "c30c0626",
   "metadata": {},
   "outputs": [
    {
     "name": "stdout",
     "output_type": "stream",
     "text": [
      "Training time for KNN : 6.6s\n",
      "accuracy: 65.8%\n"
     ]
    }
   ],
   "source": [
    "# Importing functions from SKLearn Library\n",
    "from sklearn.neighbors import KNeighborsClassifier\n",
    "clf = KNeighborsClassifier(n_neighbors=3)\n",
    "\n",
    "pipe = Pipeline([('vect', CountVectorizer()),\n",
    "                 ('tfidf', TfidfTransformer()),\n",
    "                 ('model', clf)])\n",
    "## Getting machine time to evaluate how much time will algorithm take to train \n",
    "start = time.time()\n",
    "model = pipe.fit(X_train, y_train)\n",
    "## Getting machine time to evaluate how much time will algorithm take to train \n",
    "stop = time.time()\n",
    "# Showing Training Time taken\n",
    "print(f\"Training time for KNN : {round((stop - start),2)}s\")\n",
    "# Predicting Labels from Test Set by Trained Model\n",
    "prediction = model.predict(X_test)\n",
    "print(\"accuracy: {}%\".format(round(accuracy_score(y_test, prediction)*100,2)))\n",
    "\n",
    "## Storing Test Accuracy and Training Time in the data dictionaries for Plotting at the end\n",
    "dct['KNN'] = round(accuracy_score(y_test, prediction)*100,2)\n",
    "dct_time['KNN'] = round((stop - start),2)"
   ]
  },
  {
   "cell_type": "code",
   "execution_count": 35,
   "id": "3ea03403",
   "metadata": {},
   "outputs": [
    {
     "name": "stdout",
     "output_type": "stream",
     "text": [
      "Confusion matrix, without normalization\n"
     ]
    },
    {
     "data": {
      "image/png": "[encoded data removed]",
      "text/plain": [
       "<Figure size 432x288 with 2 Axes>"
      ]
     },
     "metadata": {
      "needs_background": "light"
     },
     "output_type": "display_data"
    }
   ],
   "source": [
    "cm = metrics.confusion_matrix(y_test, prediction)\n",
    "plot_confusion_matrix(cm, classes=['Fake', 'Real'])"
   ]
  },
  {
   "cell_type": "markdown",
   "id": "282cbd20",
   "metadata": {},
   "source": [
    "# Passive Aggressive Classifier"
   ]
  },
  {
   "cell_type": "code",
   "execution_count": 36,
   "id": "a66c03e9",
   "metadata": {},
   "outputs": [
    {
     "name": "stdout",
     "output_type": "stream",
     "text": [
      "Training time for Passive Aggresive : 6.74s\n",
      "accuracy: 99.56%\n"
     ]
    }
   ],
   "source": [
    "# Importing functions from SKLearn Library\n",
    "from sklearn.linear_model import PassiveAggressiveClassifier\n",
    "\n",
    "clf = PassiveAggressiveClassifier(max_iter=1000, random_state=0, tol=1e-3)\n",
    "pipe = Pipeline([('vect', CountVectorizer()),\n",
    "                 ('tfidf', TfidfTransformer()),\n",
    "                 ('model', clf)])\n",
    "## Getting machine time to evaluate how much time will algorithm take to train \n",
    "start = time.time()\n",
    "model = pipe.fit(X_train, y_train)\n",
    "## Getting machine time to evaluate how much time will algorithm take to train \n",
    "stop = time.time()\n",
    "# Showing Training Time taken\n",
    "print(f\"Training time for Passive Aggresive : {round((stop - start),2)}s\")\n",
    "# Predicting Labels from Test Set by Trained Model\n",
    "prediction = model.predict(X_test)\n",
    "print(\"accuracy: {}%\".format(round(accuracy_score(y_test, prediction)*100,2)))\n",
    "\n",
    "## Storing Test Accuracy and Training Time in the data dictionaries for Plotting at the end\n",
    "dct['Passive Aggresive'] = round(accuracy_score(y_test, prediction)*100,2)\n",
    "dct_time['Passive Aggresive'] = round((stop - start),2)"
   ]
  },
  {
   "cell_type": "code",
   "execution_count": 37,
   "id": "04abcc1b",
   "metadata": {},
   "outputs": [
    {
     "name": "stdout",
     "output_type": "stream",
     "text": [
      "Confusion matrix, without normalization\n"
     ]
    },
    {
     "data": {
      "image/png": "[encoded data removed]",
      "text/plain": [
       "<Figure size 432x288 with 2 Axes>"
      ]
     },
     "metadata": {
      "needs_background": "light"
     },
     "output_type": "display_data"
    }
   ],
   "source": [
    "cm = metrics.confusion_matrix(y_test, prediction)\n",
    "plot_confusion_matrix(cm, classes=['Fake', 'Real'])"
   ]
  },
  {
   "cell_type": "markdown",
   "id": "19d802d3",
   "metadata": {},
   "source": [
    "# Comparing Different Models"
   ]
  },
  {
   "cell_type": "code",
   "execution_count": 38,
   "id": "4a2baff3",
   "metadata": {},
   "outputs": [
    {
     "data": {
      "text/plain": [
       "([0, 1, 2, 3, 4, 5, 6], <a list of 7 Text xticklabel objects>)"
      ]
     },
     "execution_count": 38,
     "metadata": {},
     "output_type": "execute_result"
    },
    {
     "data": {
      "image/png": "[encoded data removed]",
      "text/plain": [
       "<Figure size 576x504 with 1 Axes>"
      ]
     },
     "metadata": {
      "needs_background": "light"
     },
     "output_type": "display_data"
    }
   ],
   "source": [
    "import matplotlib.pyplot as plt\n",
    "import math\n",
    "plt.figure(figsize=(8,7))\n",
    "# Change color of each bar\n",
    "plt.bar(list(dct.keys()),list(dct.values()), color=['firebrick', 'green', 'blue', 'black', 'red','green','gray'])\n",
    "\n",
    "# Defining user defined function to show text on the top of each bar        \n",
    "def addtext(x,y):\n",
    "    for i in range(len(x)):\n",
    "        plt.text(i,1.0008*y[i],y[i],ha = 'center',rotation=0)\n",
    "        \n",
    "# Calling user defined function to show text on the top of each bar        \n",
    "addtext(list(dct.keys()),list(dct.values()))\n",
    "## Setting High and low limit of y labels \n",
    "max_value_dct = math.floor(max(dct.values()))\n",
    "min_value_dct = math.floor(min(dct.values()))\n",
    "plt.ylabel('Testing Accuracy')\n",
    "\n",
    "plt.title('Comparing Different Models')\n",
    "plt.ylim(min_value_dct-2,max_value_dct+3)\n",
    "\n",
    "# plt.yticks((91, 92, 93, 94, 95, 96, 97, 98, 99, 100))\n",
    "plt.xticks(rotation=45)"
   ]
  },
  {
   "cell_type": "markdown",
   "id": "068e9dd4",
   "metadata": {},
   "source": [
    "# Comparing Time Taken by Different Models"
   ]
  },
  {
   "cell_type": "code",
   "execution_count": 39,
   "id": "ede00c4a",
   "metadata": {},
   "outputs": [
    {
     "data": {
      "text/plain": [
       "([0, 1, 2, 3, 4, 5, 6], <a list of 7 Text xticklabel objects>)"
      ]
     },
     "execution_count": 39,
     "metadata": {},
     "output_type": "execute_result"
    },
    {
     "data": {
      "image/png": "[encoded data removed]",
      "text/plain": [
       "<Figure size 576x504 with 1 Axes>"
      ]
     },
     "metadata": {
      "needs_background": "light"
     },
     "output_type": "display_data"
    }
   ],
   "source": [
    "import matplotlib.pyplot as plt\n",
    "import math\n",
    "\n",
    "plt.figure(figsize=(8,7))\n",
    "# Change color of each bar\n",
    "plt.bar(list(dct_time.keys()),list(dct_time.values()), color=['firebrick', 'green', 'blue', 'black', 'red','orange','gray'])\n",
    "# Defining user defined function to show text on the top of each bar \n",
    "def addtext(x,y):\n",
    "    for i in range(len(x)):\n",
    "        plt.text(i,1.0016*y[i],y[i],ha = 'center',rotation=0)\n",
    "## Setting High and low limit of y labels     \n",
    "max_value_dct_time = math.floor(max(dct_time.values()))\n",
    "min_value_dct_time = math.floor(min(dct_time.values()))\n",
    " # Calling user defined function to show text on the top of each bar   \n",
    "    \n",
    "addtext(list(dct_time.keys()),list(dct_time.values()))\n",
    "\n",
    "plt.title('Training Time for Different Models')\n",
    "plt.ylim(min_value_dct_time-10,max_value_dct_time+20)\n",
    "plt.ylabel('Time in Seconds')\n",
    "\n",
    "# plt.yticks((91, 92, 93, 94, 95, 96, 97, 98, 99, 100))\n",
    "plt.xticks(rotation=45)\n"
   ]
  },
  {
   "cell_type": "code",
   "execution_count": null,
   "id": "a0b76e7d",
   "metadata": {},
   "outputs": [],
   "source": []
  }
 ],
 "metadata": {
  "kernelspec": {
   "display_name": "Python 3",
   "language": "python",
   "name": "python3"
  },
  "language_info": {
   "codemirror_mode": {
    "name": "ipython",
    "version": 3
   },
   "file_extension": ".py",
   "mimetype": "text/x-python",
   "name": "python",
   "nbconvert_exporter": "python",
   "pygments_lexer": "ipython3",
   "version": "3.6.5"
  }
 },
 "nbformat": 4,
 "nbformat_minor": 5
}
